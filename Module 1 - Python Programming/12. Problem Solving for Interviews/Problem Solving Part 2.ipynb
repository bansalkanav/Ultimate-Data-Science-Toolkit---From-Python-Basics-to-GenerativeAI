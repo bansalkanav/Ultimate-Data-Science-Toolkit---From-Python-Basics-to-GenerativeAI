{
 "cells": [
  {
   "cell_type": "markdown",
   "metadata": {},
   "source": [
    "## Problem Solving "
   ]
  },
  {
   "cell_type": "markdown",
   "metadata": {},
   "source": [
    "**Problem 1**  \n",
    "Given an array `arr` of size `N`.  \n",
    "\n",
    "Output the maximum value of `abs(arr[i] - arr[j])`.\n",
    "```\n",
    "Input: arr = [0, -1, 5, 7, 10]\n",
    "Output: 11\n",
    "```"
   ]
  },
  {
   "cell_type": "markdown",
   "metadata": {},
   "source": [
    "Hint: Sort an array and take difference of max and min element <br>\n",
    "Time Complexity *O(nlogn)* for sorting the array"
   ]
  },
  {
   "cell_type": "code",
   "execution_count": 26,
   "metadata": {},
   "outputs": [
    {
     "data": {
      "text/plain": [
       "11"
      ]
     },
     "execution_count": 26,
     "metadata": {},
     "output_type": "execute_result"
    }
   ],
   "source": [
    "def solve(arr):\n",
    "    arr.sort(reverse=True)\n",
    "    ans = arr[0]-arr[-1]\n",
    "    return ans\n",
    "arr = [0, -1, 5, 7, 10]\n",
    "solve(arr)"
   ]
  },
  {
   "cell_type": "markdown",
   "metadata": {},
   "source": [
    "Can it be further optimised? Think!<br>\n",
    "Can we do it with *O(n)* complexity"
   ]
  },
  {
   "cell_type": "code",
   "execution_count": 27,
   "metadata": {},
   "outputs": [
    {
     "data": {
      "text/plain": [
       "11"
      ]
     },
     "execution_count": 27,
     "metadata": {},
     "output_type": "execute_result"
    }
   ],
   "source": [
    "arr = [0, -1, 5, 7, 10]\n",
    "def solve(arr):\n",
    "    max_so_far, min_so_far = -10000007,10000007\n",
    "    for num in arr:\n",
    "        if num>max_so_far:\n",
    "            max_so_far=num\n",
    "        if num<min_so_far:\n",
    "            min_so_far=num\n",
    "    return (max_so_far-min_so_far)\n",
    "solve(arr)"
   ]
  },
  {
   "cell_type": "markdown",
   "metadata": {},
   "source": [
    "**Problem 2**  \n",
    "Given a read-only array `arr` of size `N`.\n",
    "The property of this array is that, \n",
    "1. Each element of this array is going to fall in the range of 1 to N (where N is the size of array).\n",
    "2. All element comes exaclty once, except for 1 element. Only one element comes twice.\n",
    "\n",
    "Output the repeated value?\n",
    "```\n",
    "Input: arr = [3, 1, 2, 5, 3]  \n",
    "Output: 3\n",
    "```"
   ]
  },
  {
   "cell_type": "code",
   "execution_count": 28,
   "metadata": {},
   "outputs": [
    {
     "data": {
      "text/plain": [
       "3"
      ]
     },
     "execution_count": 28,
     "metadata": {},
     "output_type": "execute_result"
    }
   ],
   "source": [
    "## Solution\n",
    "\n",
    "arr = [3,1,2,5,3]\n",
    "def solve(arr):\n",
    "    hashmap = {}\n",
    "    for num in arr:\n",
    "        if hashmap.get(num,0)==1:\n",
    "            return num\n",
    "            break\n",
    "        hashmap[num]=1\n",
    "solve(arr) "
   ]
  },
  {
   "cell_type": "markdown",
   "metadata": {},
   "source": [
    "**Problem 3**  \n",
    "Given `N` bars each of width `1` unit and length represented in an array.  \n",
    "Output the units of water that is going to be trapped.\n",
    "```\n",
    "Input: height = [0, 1, 0, 2, 1, 0, 1, 3, 2, 1, 2, 1]\n",
    "Output: 6\n",
    "```\n",
    "![title](img/rainwatertrap.png)"
   ]
  },
  {
   "cell_type": "code",
   "execution_count": 33,
   "metadata": {},
   "outputs": [
    {
     "data": {
      "text/plain": [
       "6"
      ]
     },
     "execution_count": 33,
     "metadata": {},
     "output_type": "execute_result"
    }
   ],
   "source": [
    "## Solution\n",
    "# Approach to track right max and left max at each position and remove height of bar from each to get total water at each location\n",
    "height = [0, 1, 0, 2, 1, 0, 1, 3, 2, 1, 2, 1]\n",
    "\n",
    "def solve(height):\n",
    "    n = len(height)\n",
    "    right_max = [0]*n\n",
    "    left_max = [0]*n\n",
    "    \n",
    "    # calulate left max at each location\n",
    "    left_max[0] = height[0]\n",
    "    for i in range(1,n):\n",
    "        left_max[i]=max(left_max[i-1], height[i])\n",
    "        \n",
    "    # calulate right max at each location\n",
    "    right_max[n-1]= height[n-1]\n",
    "    for i in range(n-2,0,-1):\n",
    "        right_max[i]=max(right_max[i+1], height[i])\n",
    "\n",
    "    # total water trapped min(left_max,right_max)-height of bar at location\n",
    "    water = 0\n",
    "    for i in range(n):\n",
    "        water+=min(right_max[i],left_max[i])-height[i]\n",
    "    \n",
    "    return water\n",
    "\n",
    "solve(height)"
   ]
  },
  {
   "cell_type": "code",
   "execution_count": null,
   "metadata": {},
   "outputs": [],
   "source": []
  }
 ],
 "metadata": {
  "kernelspec": {
   "display_name": "Python 3 (ipykernel)",
   "language": "python",
   "name": "python3"
  },
  "language_info": {
   "codemirror_mode": {
    "name": "ipython",
    "version": 3
   },
   "file_extension": ".py",
   "mimetype": "text/x-python",
   "name": "python",
   "nbconvert_exporter": "python",
   "pygments_lexer": "ipython3",
   "version": "3.12.1"
  }
 },
 "nbformat": 4,
 "nbformat_minor": 4
}
