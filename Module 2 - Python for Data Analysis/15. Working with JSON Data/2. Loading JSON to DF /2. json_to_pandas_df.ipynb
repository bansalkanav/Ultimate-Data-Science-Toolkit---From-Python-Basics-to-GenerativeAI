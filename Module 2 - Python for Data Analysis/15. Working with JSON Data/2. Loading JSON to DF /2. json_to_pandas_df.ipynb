{
 "cells": [
  {
   "cell_type": "markdown",
   "id": "bcbbd07f-f697-4582-98d9-e59a83388726",
   "metadata": {},
   "source": [
    "# **JSON and Pandas for Data Analysis**\n",
    "\n",
    "### **What's covered in this notebook?**\n",
    "\n",
    "1. Converting Flat JSON to DataFrame\n",
    "    - Using pd.DataFrame()\n",
    "    - Using pd.read_json()\n",
    "2. Handling Deeply Nested JSON Structures\n",
    "    - Normalizing Nested JSON Structures\n",
    "    - Normalizing Multi-Level JSON\n",
    "3. Few Examples\n",
    "\t- Example 1: Parse Students Data to Identify the Top Skill\n",
    "\t- Example 2: Parse Customer Transactions from JSON and Generate Insights\n",
    "\t- Example 3: Parse a Sample E-Commerce Order Data for Analysis"
   ]
  },
  {
   "cell_type": "markdown",
   "id": "8eee98a1-0ceb-4d94-8ca0-03fdf7e5c670",
   "metadata": {},
   "source": [
    "## **Converting Flat JSON to DataFrame**\n",
    "\n",
    "A flat JSON structure consists of a list of dictionaries, where each dictionary represents a row."
   ]
  },
  {
   "cell_type": "markdown",
   "id": "e706d1a1-42ce-44d4-ad61-94e357974dab",
   "metadata": {},
   "source": [
    "### **Using pd.DataFrame()**"
   ]
  },
  {
   "cell_type": "code",
   "execution_count": 1,
   "id": "f43bf3ea-2740-4141-957f-f1037162325e",
   "metadata": {},
   "outputs": [
    {
     "name": "stdout",
     "output_type": "stream",
     "text": [
      "[\n",
      "    {\n",
      "        \"id\": 1,\n",
      "        \"name\": \"Alice\",\n",
      "        \"age\": 25,\n",
      "        \"city\": \"New York\"\n",
      "    },\n",
      "    {\n",
      "        \"id\": 2,\n",
      "        \"name\": \"Bob\",\n",
      "        \"age\": 30,\n",
      "        \"city\": \"San Francisco\"\n",
      "    },\n",
      "    {\n",
      "        \"id\": 3,\n",
      "        \"name\": \"Charlie\",\n",
      "        \"age\": 28,\n",
      "        \"city\": \"Los Angeles\"\n",
      "    }\n",
      "]\n"
     ]
    }
   ],
   "source": [
    "import json\n",
    "\n",
    "# Reading JSON file\n",
    "with open(\"data/flat_user_data.json\", \"r\") as file:\n",
    "    data = json.load(file)\n",
    "\n",
    "print(json.dumps(data, indent=4))"
   ]
  },
  {
   "cell_type": "code",
   "execution_count": 2,
   "id": "9e75e169-dd77-4ac3-8fc0-26a9b26e6a08",
   "metadata": {},
   "outputs": [
    {
     "data": {
      "text/html": [
       "<div>\n",
       "<style scoped>\n",
       "    .dataframe tbody tr th:only-of-type {\n",
       "        vertical-align: middle;\n",
       "    }\n",
       "\n",
       "    .dataframe tbody tr th {\n",
       "        vertical-align: top;\n",
       "    }\n",
       "\n",
       "    .dataframe thead th {\n",
       "        text-align: right;\n",
       "    }\n",
       "</style>\n",
       "<table border=\"1\" class=\"dataframe\">\n",
       "  <thead>\n",
       "    <tr style=\"text-align: right;\">\n",
       "      <th></th>\n",
       "      <th>id</th>\n",
       "      <th>name</th>\n",
       "      <th>age</th>\n",
       "      <th>city</th>\n",
       "    </tr>\n",
       "  </thead>\n",
       "  <tbody>\n",
       "    <tr>\n",
       "      <th>0</th>\n",
       "      <td>1</td>\n",
       "      <td>Alice</td>\n",
       "      <td>25</td>\n",
       "      <td>New York</td>\n",
       "    </tr>\n",
       "    <tr>\n",
       "      <th>1</th>\n",
       "      <td>2</td>\n",
       "      <td>Bob</td>\n",
       "      <td>30</td>\n",
       "      <td>San Francisco</td>\n",
       "    </tr>\n",
       "    <tr>\n",
       "      <th>2</th>\n",
       "      <td>3</td>\n",
       "      <td>Charlie</td>\n",
       "      <td>28</td>\n",
       "      <td>Los Angeles</td>\n",
       "    </tr>\n",
       "  </tbody>\n",
       "</table>\n",
       "</div>"
      ],
      "text/plain": [
       "   id     name  age           city\n",
       "0   1    Alice   25       New York\n",
       "1   2      Bob   30  San Francisco\n",
       "2   3  Charlie   28    Los Angeles"
      ]
     },
     "execution_count": 2,
     "metadata": {},
     "output_type": "execute_result"
    }
   ],
   "source": [
    "import pandas as pd\n",
    "\n",
    "# Convert to Pandas DataFrame\n",
    "df = pd.DataFrame(data)\n",
    "\n",
    "df"
   ]
  },
  {
   "cell_type": "markdown",
   "id": "7fa4a0bc-638c-40c0-a8ce-842d00e24e13",
   "metadata": {},
   "source": [
    "### **Using pd.read_json()**\n",
    "\n",
    "**pd.read_json(file_path)** Works Well Only for Simple JSON Structures.\n",
    "\n",
    "If the data is a **flat JSON structure** (i.e., a list of dictionaries where each dictionary represents a row), pd.read_json() works perfectly.\n",
    "\n",
    "Note that, this approach fails with deeply nested JSON."
   ]
  },
  {
   "cell_type": "code",
   "execution_count": 3,
   "id": "8e81c2e2-bf4b-476b-89a6-442fec228d6a",
   "metadata": {},
   "outputs": [
    {
     "data": {
      "text/html": [
       "<div>\n",
       "<style scoped>\n",
       "    .dataframe tbody tr th:only-of-type {\n",
       "        vertical-align: middle;\n",
       "    }\n",
       "\n",
       "    .dataframe tbody tr th {\n",
       "        vertical-align: top;\n",
       "    }\n",
       "\n",
       "    .dataframe thead th {\n",
       "        text-align: right;\n",
       "    }\n",
       "</style>\n",
       "<table border=\"1\" class=\"dataframe\">\n",
       "  <thead>\n",
       "    <tr style=\"text-align: right;\">\n",
       "      <th></th>\n",
       "      <th>id</th>\n",
       "      <th>name</th>\n",
       "      <th>age</th>\n",
       "      <th>city</th>\n",
       "    </tr>\n",
       "  </thead>\n",
       "  <tbody>\n",
       "    <tr>\n",
       "      <th>0</th>\n",
       "      <td>1</td>\n",
       "      <td>Alice</td>\n",
       "      <td>25</td>\n",
       "      <td>New York</td>\n",
       "    </tr>\n",
       "    <tr>\n",
       "      <th>1</th>\n",
       "      <td>2</td>\n",
       "      <td>Bob</td>\n",
       "      <td>30</td>\n",
       "      <td>San Francisco</td>\n",
       "    </tr>\n",
       "    <tr>\n",
       "      <th>2</th>\n",
       "      <td>3</td>\n",
       "      <td>Charlie</td>\n",
       "      <td>28</td>\n",
       "      <td>Los Angeles</td>\n",
       "    </tr>\n",
       "  </tbody>\n",
       "</table>\n",
       "</div>"
      ],
      "text/plain": [
       "   id     name  age           city\n",
       "0   1    Alice   25       New York\n",
       "1   2      Bob   30  San Francisco\n",
       "2   3  Charlie   28    Los Angeles"
      ]
     },
     "execution_count": 3,
     "metadata": {},
     "output_type": "execute_result"
    }
   ],
   "source": [
    "df = pd.read_json(\"data/flat_user_data.json\")\n",
    "\n",
    "df"
   ]
  },
  {
   "cell_type": "markdown",
   "id": "b4e89f7f-4598-415c-8aba-a4b9855ccb54",
   "metadata": {},
   "source": [
    "## **Handling Deeply Nested JSON Structures**\n",
    "\n",
    "Complex nested JSON Structures requires preprocessing with **json.load(s) + pd.json_normalize()**.\n",
    "\n",
    "pd.json_normalize() helps unpack deeply nested JSON into a structured format.\n",
    "\n",
    "- **pd.json_normalize()** flattens nested JSON.\n",
    "- Use sep=\"_\" to customize column names for clarity."
   ]
  },
  {
   "cell_type": "markdown",
   "id": "cd61b16a-ba1f-4915-a30f-cad34ff8a87f",
   "metadata": {},
   "source": [
    "### **Normalizing Nested JSON Structures**"
   ]
  },
  {
   "cell_type": "code",
   "execution_count": 4,
   "id": "5a562138-f385-4c3b-88e6-d350b555bdc7",
   "metadata": {},
   "outputs": [
    {
     "data": {
      "text/html": [
       "<div>\n",
       "<style scoped>\n",
       "    .dataframe tbody tr th:only-of-type {\n",
       "        vertical-align: middle;\n",
       "    }\n",
       "\n",
       "    .dataframe tbody tr th {\n",
       "        vertical-align: top;\n",
       "    }\n",
       "\n",
       "    .dataframe thead th {\n",
       "        text-align: right;\n",
       "    }\n",
       "</style>\n",
       "<table border=\"1\" class=\"dataframe\">\n",
       "  <thead>\n",
       "    <tr style=\"text-align: right;\">\n",
       "      <th></th>\n",
       "      <th>id</th>\n",
       "      <th>name</th>\n",
       "      <th>address_city</th>\n",
       "      <th>address_zip</th>\n",
       "    </tr>\n",
       "  </thead>\n",
       "  <tbody>\n",
       "    <tr>\n",
       "      <th>0</th>\n",
       "      <td>1</td>\n",
       "      <td>Alice</td>\n",
       "      <td>New York</td>\n",
       "      <td>10001</td>\n",
       "    </tr>\n",
       "    <tr>\n",
       "      <th>1</th>\n",
       "      <td>2</td>\n",
       "      <td>Bob</td>\n",
       "      <td>San Francisco</td>\n",
       "      <td>94105</td>\n",
       "    </tr>\n",
       "    <tr>\n",
       "      <th>2</th>\n",
       "      <td>3</td>\n",
       "      <td>Charlie</td>\n",
       "      <td>Los Angeles</td>\n",
       "      <td>90001</td>\n",
       "    </tr>\n",
       "  </tbody>\n",
       "</table>\n",
       "</div>"
      ],
      "text/plain": [
       "   id     name   address_city address_zip\n",
       "0   1    Alice       New York       10001\n",
       "1   2      Bob  San Francisco       94105\n",
       "2   3  Charlie    Los Angeles       90001"
      ]
     },
     "execution_count": 4,
     "metadata": {},
     "output_type": "execute_result"
    }
   ],
   "source": [
    "nested_json = '''[\n",
    "    {\"id\": 1, \"name\": \"Alice\", \"address\": {\"city\": \"New York\", \"zip\": \"10001\"}},\n",
    "    {\"id\": 2, \"name\": \"Bob\", \"address\": {\"city\": \"San Francisco\", \"zip\": \"94105\"}},\n",
    "    {\"id\": 3, \"name\": \"Charlie\", \"address\": {\"city\": \"Los Angeles\", \"zip\": \"90001\"}}\n",
    "]'''\n",
    "\n",
    "# Convert JSON to DataFrame\n",
    "data = json.loads(nested_json)\n",
    "\n",
    "# Flatten nested fields\n",
    "df = pd.json_normalize(data, sep=\"_\")  \n",
    "\n",
    "df"
   ]
  },
  {
   "cell_type": "markdown",
   "id": "01b3ba20-3274-4727-9a1c-b107f540997d",
   "metadata": {},
   "source": [
    "### **Normalizing Multi-Level JSON**\n",
    "\n",
    "**pd.json_normalize(data, record_path, meta_fields)** expands nested lists into rows.\n",
    "\n",
    "**Note:** \"record_path\" must be a list or null."
   ]
  },
  {
   "cell_type": "code",
   "execution_count": 5,
   "id": "4efa6920-079f-4e29-ac2f-82040da88462",
   "metadata": {},
   "outputs": [],
   "source": [
    "# Sample JSON\n",
    "json_data = '''[\n",
    "    {\"id\": 1, \"name\": \"Alice\", \"orders\": [\n",
    "        {\"order_id\": 101, \"amount\": 250},\n",
    "        {\"order_id\": 102, \"amount\": 150}\n",
    "    ]},\n",
    "    {\"id\": 2, \"name\": \"Bob\", \"orders\": [\n",
    "        {\"order_id\": 103, \"amount\": 300}\n",
    "    ]}\n",
    "]'''"
   ]
  },
  {
   "cell_type": "code",
   "execution_count": 6,
   "id": "7b9e7447-9900-436f-804a-c57a8503ca83",
   "metadata": {},
   "outputs": [
    {
     "data": {
      "text/html": [
       "<div>\n",
       "<style scoped>\n",
       "    .dataframe tbody tr th:only-of-type {\n",
       "        vertical-align: middle;\n",
       "    }\n",
       "\n",
       "    .dataframe tbody tr th {\n",
       "        vertical-align: top;\n",
       "    }\n",
       "\n",
       "    .dataframe thead th {\n",
       "        text-align: right;\n",
       "    }\n",
       "</style>\n",
       "<table border=\"1\" class=\"dataframe\">\n",
       "  <thead>\n",
       "    <tr style=\"text-align: right;\">\n",
       "      <th></th>\n",
       "      <th>id</th>\n",
       "      <th>name</th>\n",
       "      <th>orders</th>\n",
       "    </tr>\n",
       "  </thead>\n",
       "  <tbody>\n",
       "    <tr>\n",
       "      <th>0</th>\n",
       "      <td>1</td>\n",
       "      <td>Alice</td>\n",
       "      <td>[{'order_id': 101, 'amount': 250}, {'order_id'...</td>\n",
       "    </tr>\n",
       "    <tr>\n",
       "      <th>1</th>\n",
       "      <td>2</td>\n",
       "      <td>Bob</td>\n",
       "      <td>[{'order_id': 103, 'amount': 300}]</td>\n",
       "    </tr>\n",
       "  </tbody>\n",
       "</table>\n",
       "</div>"
      ],
      "text/plain": [
       "   id   name                                             orders\n",
       "0   1  Alice  [{'order_id': 101, 'amount': 250}, {'order_id'...\n",
       "1   2    Bob                 [{'order_id': 103, 'amount': 300}]"
      ]
     },
     "execution_count": 6,
     "metadata": {},
     "output_type": "execute_result"
    }
   ],
   "source": [
    "import pandas as pd\n",
    "import json\n",
    "\n",
    "# Convert JSON to DataFrame\n",
    "data = json.loads(json_data)\n",
    "\n",
    "df_users = pd.DataFrame(data)\n",
    "\n",
    "df_users"
   ]
  },
  {
   "cell_type": "code",
   "execution_count": 7,
   "id": "1e84edc4-a53e-4471-b3f9-619f30318cac",
   "metadata": {},
   "outputs": [
    {
     "data": {
      "text/html": [
       "<div>\n",
       "<style scoped>\n",
       "    .dataframe tbody tr th:only-of-type {\n",
       "        vertical-align: middle;\n",
       "    }\n",
       "\n",
       "    .dataframe tbody tr th {\n",
       "        vertical-align: top;\n",
       "    }\n",
       "\n",
       "    .dataframe thead th {\n",
       "        text-align: right;\n",
       "    }\n",
       "</style>\n",
       "<table border=\"1\" class=\"dataframe\">\n",
       "  <thead>\n",
       "    <tr style=\"text-align: right;\">\n",
       "      <th></th>\n",
       "      <th>order_id</th>\n",
       "      <th>amount</th>\n",
       "      <th>id</th>\n",
       "      <th>name</th>\n",
       "    </tr>\n",
       "  </thead>\n",
       "  <tbody>\n",
       "    <tr>\n",
       "      <th>0</th>\n",
       "      <td>101</td>\n",
       "      <td>250</td>\n",
       "      <td>1</td>\n",
       "      <td>Alice</td>\n",
       "    </tr>\n",
       "    <tr>\n",
       "      <th>1</th>\n",
       "      <td>102</td>\n",
       "      <td>150</td>\n",
       "      <td>1</td>\n",
       "      <td>Alice</td>\n",
       "    </tr>\n",
       "    <tr>\n",
       "      <th>2</th>\n",
       "      <td>103</td>\n",
       "      <td>300</td>\n",
       "      <td>2</td>\n",
       "      <td>Bob</td>\n",
       "    </tr>\n",
       "  </tbody>\n",
       "</table>\n",
       "</div>"
      ],
      "text/plain": [
       "   order_id  amount id   name\n",
       "0       101     250  1  Alice\n",
       "1       102     150  1  Alice\n",
       "2       103     300  2    Bob"
      ]
     },
     "execution_count": 7,
     "metadata": {},
     "output_type": "execute_result"
    }
   ],
   "source": [
    "# Normalize orders into a separate DataFrame\n",
    "df_orders = pd.json_normalize(data, record_path=\"orders\", meta=[\"id\", \"name\"])\n",
    "\n",
    "df_orders"
   ]
  },
  {
   "cell_type": "markdown",
   "id": "42feb47e-68f3-4675-b38a-6893c22ad4ee",
   "metadata": {},
   "source": [
    "## **Few Examples**"
   ]
  },
  {
   "cell_type": "markdown",
   "id": "a6c0a5c3-fe94-4753-9eb9-0488a07bdc60",
   "metadata": {},
   "source": [
    "### **Example 1: Parse Students Data to Identify the Top Skill**"
   ]
  },
  {
   "cell_type": "code",
   "execution_count": 8,
   "id": "826c6501-40b9-42aa-8996-72fdd29d980a",
   "metadata": {},
   "outputs": [
    {
     "data": {
      "text/html": [
       "<div>\n",
       "<style scoped>\n",
       "    .dataframe tbody tr th:only-of-type {\n",
       "        vertical-align: middle;\n",
       "    }\n",
       "\n",
       "    .dataframe tbody tr th {\n",
       "        vertical-align: top;\n",
       "    }\n",
       "\n",
       "    .dataframe thead th {\n",
       "        text-align: right;\n",
       "    }\n",
       "</style>\n",
       "<table border=\"1\" class=\"dataframe\">\n",
       "  <thead>\n",
       "    <tr style=\"text-align: right;\">\n",
       "      <th></th>\n",
       "      <th>id</th>\n",
       "      <th>name</th>\n",
       "      <th>skills</th>\n",
       "    </tr>\n",
       "  </thead>\n",
       "  <tbody>\n",
       "    <tr>\n",
       "      <th>0</th>\n",
       "      <td>1</td>\n",
       "      <td>Alice</td>\n",
       "      <td>[Python, SQL, Machine Learning]</td>\n",
       "    </tr>\n",
       "    <tr>\n",
       "      <th>1</th>\n",
       "      <td>2</td>\n",
       "      <td>Bob</td>\n",
       "      <td>[Java, Python]</td>\n",
       "    </tr>\n",
       "    <tr>\n",
       "      <th>2</th>\n",
       "      <td>3</td>\n",
       "      <td>Charlie</td>\n",
       "      <td>[Python, JavaScript, Machine Learning]</td>\n",
       "    </tr>\n",
       "  </tbody>\n",
       "</table>\n",
       "</div>"
      ],
      "text/plain": [
       "   id     name                                  skills\n",
       "0   1    Alice         [Python, SQL, Machine Learning]\n",
       "1   2      Bob                          [Java, Python]\n",
       "2   3  Charlie  [Python, JavaScript, Machine Learning]"
      ]
     },
     "execution_count": 8,
     "metadata": {},
     "output_type": "execute_result"
    }
   ],
   "source": [
    "complex_json = '''[\n",
    "    {\"id\": 1, \"name\": \"Alice\", \"skills\": [\"Python\", \"SQL\", \"Machine Learning\"]},\n",
    "    {\"id\": 2, \"name\": \"Bob\", \"skills\": [\"Java\", \"Python\"]},\n",
    "    {\"id\": 3, \"name\": \"Charlie\", \"skills\": [\"Python\", \"JavaScript\", \"Machine Learning\"]}\n",
    "]'''\n",
    "\n",
    "# Read JSON\n",
    "data = json.loads(complex_json)\n",
    "\n",
    "# Convert to DataFrame\n",
    "df = pd.DataFrame(data)\n",
    "\n",
    "df"
   ]
  },
  {
   "cell_type": "code",
   "execution_count": 9,
   "id": "122fd346-16cd-4ac0-87d5-06faf3875f01",
   "metadata": {},
   "outputs": [
    {
     "data": {
      "text/html": [
       "<div>\n",
       "<style scoped>\n",
       "    .dataframe tbody tr th:only-of-type {\n",
       "        vertical-align: middle;\n",
       "    }\n",
       "\n",
       "    .dataframe tbody tr th {\n",
       "        vertical-align: top;\n",
       "    }\n",
       "\n",
       "    .dataframe thead th {\n",
       "        text-align: right;\n",
       "    }\n",
       "</style>\n",
       "<table border=\"1\" class=\"dataframe\">\n",
       "  <thead>\n",
       "    <tr style=\"text-align: right;\">\n",
       "      <th></th>\n",
       "      <th>id</th>\n",
       "      <th>name</th>\n",
       "      <th>skills</th>\n",
       "    </tr>\n",
       "  </thead>\n",
       "  <tbody>\n",
       "    <tr>\n",
       "      <th>0</th>\n",
       "      <td>1</td>\n",
       "      <td>Alice</td>\n",
       "      <td>Python</td>\n",
       "    </tr>\n",
       "    <tr>\n",
       "      <th>1</th>\n",
       "      <td>1</td>\n",
       "      <td>Alice</td>\n",
       "      <td>SQL</td>\n",
       "    </tr>\n",
       "    <tr>\n",
       "      <th>2</th>\n",
       "      <td>1</td>\n",
       "      <td>Alice</td>\n",
       "      <td>Machine Learning</td>\n",
       "    </tr>\n",
       "    <tr>\n",
       "      <th>3</th>\n",
       "      <td>2</td>\n",
       "      <td>Bob</td>\n",
       "      <td>Java</td>\n",
       "    </tr>\n",
       "    <tr>\n",
       "      <th>4</th>\n",
       "      <td>2</td>\n",
       "      <td>Bob</td>\n",
       "      <td>Python</td>\n",
       "    </tr>\n",
       "    <tr>\n",
       "      <th>5</th>\n",
       "      <td>3</td>\n",
       "      <td>Charlie</td>\n",
       "      <td>Python</td>\n",
       "    </tr>\n",
       "    <tr>\n",
       "      <th>6</th>\n",
       "      <td>3</td>\n",
       "      <td>Charlie</td>\n",
       "      <td>JavaScript</td>\n",
       "    </tr>\n",
       "    <tr>\n",
       "      <th>7</th>\n",
       "      <td>3</td>\n",
       "      <td>Charlie</td>\n",
       "      <td>Machine Learning</td>\n",
       "    </tr>\n",
       "  </tbody>\n",
       "</table>\n",
       "</div>"
      ],
      "text/plain": [
       "   id     name            skills\n",
       "0   1    Alice            Python\n",
       "1   1    Alice               SQL\n",
       "2   1    Alice  Machine Learning\n",
       "3   2      Bob              Java\n",
       "4   2      Bob            Python\n",
       "5   3  Charlie            Python\n",
       "6   3  Charlie        JavaScript\n",
       "7   3  Charlie  Machine Learning"
      ]
     },
     "execution_count": 9,
     "metadata": {},
     "output_type": "execute_result"
    }
   ],
   "source": [
    "df_new = df.explode(\"skills\").reset_index(drop=True)\n",
    "\n",
    "df_new"
   ]
  },
  {
   "cell_type": "code",
   "execution_count": 10,
   "id": "e793ae37-6bae-450c-99b0-5db8bf35f42c",
   "metadata": {},
   "outputs": [
    {
     "data": {
      "text/plain": [
       "skills\n",
       "Python              3\n",
       "Machine Learning    2\n",
       "SQL                 1\n",
       "Java                1\n",
       "JavaScript          1\n",
       "Name: count, dtype: int64"
      ]
     },
     "execution_count": 10,
     "metadata": {},
     "output_type": "execute_result"
    }
   ],
   "source": [
    "df_new[\"skills\"].value_counts()"
   ]
  },
  {
   "cell_type": "markdown",
   "id": "06a82ec8-db99-4a93-9335-1331212e5e0e",
   "metadata": {},
   "source": [
    "### **Example 2: Parse Customer Transactions from JSON and Generate Insights**"
   ]
  },
  {
   "cell_type": "code",
   "execution_count": 11,
   "id": "3c1c902c-882e-48e6-be4e-94112862b14b",
   "metadata": {},
   "outputs": [
    {
     "data": {
      "text/html": [
       "<div>\n",
       "<style scoped>\n",
       "    .dataframe tbody tr th:only-of-type {\n",
       "        vertical-align: middle;\n",
       "    }\n",
       "\n",
       "    .dataframe tbody tr th {\n",
       "        vertical-align: top;\n",
       "    }\n",
       "\n",
       "    .dataframe thead th {\n",
       "        text-align: right;\n",
       "    }\n",
       "</style>\n",
       "<table border=\"1\" class=\"dataframe\">\n",
       "  <thead>\n",
       "    <tr style=\"text-align: right;\">\n",
       "      <th></th>\n",
       "      <th>customer</th>\n",
       "      <th>amount</th>\n",
       "      <th>date</th>\n",
       "    </tr>\n",
       "  </thead>\n",
       "  <tbody>\n",
       "    <tr>\n",
       "      <th>0</th>\n",
       "      <td>Alice</td>\n",
       "      <td>200</td>\n",
       "      <td>2024-03-01</td>\n",
       "    </tr>\n",
       "    <tr>\n",
       "      <th>1</th>\n",
       "      <td>Bob</td>\n",
       "      <td>150</td>\n",
       "      <td>2024-03-02</td>\n",
       "    </tr>\n",
       "    <tr>\n",
       "      <th>2</th>\n",
       "      <td>Alice</td>\n",
       "      <td>300</td>\n",
       "      <td>2024-03-05</td>\n",
       "    </tr>\n",
       "    <tr>\n",
       "      <th>3</th>\n",
       "      <td>Charlie</td>\n",
       "      <td>500</td>\n",
       "      <td>2024-03-06</td>\n",
       "    </tr>\n",
       "    <tr>\n",
       "      <th>4</th>\n",
       "      <td>Bob</td>\n",
       "      <td>100</td>\n",
       "      <td>2024-03-07</td>\n",
       "    </tr>\n",
       "  </tbody>\n",
       "</table>\n",
       "</div>"
      ],
      "text/plain": [
       "  customer  amount       date\n",
       "0    Alice     200 2024-03-01\n",
       "1      Bob     150 2024-03-02\n",
       "2    Alice     300 2024-03-05\n",
       "3  Charlie     500 2024-03-06\n",
       "4      Bob     100 2024-03-07"
      ]
     },
     "execution_count": 11,
     "metadata": {},
     "output_type": "execute_result"
    }
   ],
   "source": [
    "import pandas as pd\n",
    "import json\n",
    "\n",
    "# Sample JSON\n",
    "json_data = '''[\n",
    "    {\"customer\": \"Alice\", \"amount\": 200, \"date\": \"2024-03-01\"},\n",
    "    {\"customer\": \"Bob\", \"amount\": 150, \"date\": \"2024-03-02\"},\n",
    "    {\"customer\": \"Alice\", \"amount\": 300, \"date\": \"2024-03-05\"},\n",
    "    {\"customer\": \"Charlie\", \"amount\": 500, \"date\": \"2024-03-06\"},\n",
    "    {\"customer\": \"Bob\", \"amount\": 100, \"date\": \"2024-03-07\"}\n",
    "]'''\n",
    "\n",
    "# Convert JSON to DataFrame\n",
    "data = json.loads(json_data)\n",
    "df = pd.DataFrame(data)\n",
    "\n",
    "# Convert date column to datetime\n",
    "df[\"date\"] = pd.to_datetime(df[\"date\"])\n",
    "\n",
    "df"
   ]
  },
  {
   "cell_type": "code",
   "execution_count": 12,
   "id": "76b63aac-2a2d-4582-abe7-1b7e1658994f",
   "metadata": {},
   "outputs": [
    {
     "name": "stdout",
     "output_type": "stream",
     "text": [
      "Total Spending:\n",
      "   customer  amount\n",
      "0    Alice     500\n",
      "1      Bob     250\n",
      "2  Charlie     500\n",
      "\n",
      "Average Spending:\n",
      "   customer  amount\n",
      "0    Alice   250.0\n",
      "1      Bob   125.0\n",
      "2  Charlie   500.0\n",
      "\n",
      "Most Frequent Customer: Alice\n"
     ]
    }
   ],
   "source": [
    "# Calculate total spending per customer\n",
    "total_spending = df.groupby(\"customer\")[\"amount\"].sum().reset_index()\n",
    "\n",
    "# Calculate average transaction amount per customer\n",
    "average_spending = df.groupby(\"customer\")[\"amount\"].mean().reset_index()\n",
    "\n",
    "# Find the most frequent customer\n",
    "frequent_customer = df[\"customer\"].value_counts().idxmax()\n",
    "\n",
    "print(\"Total Spending:\\n\", total_spending)\n",
    "print(\"\\nAverage Spending:\\n\", average_spending)\n",
    "print(\"\\nMost Frequent Customer:\", frequent_customer)"
   ]
  },
  {
   "cell_type": "markdown",
   "id": "668da3e4-c53c-4fd7-998f-ffe6e6b10ef8",
   "metadata": {},
   "source": [
    "### **Example 3: Parse a Sample E-Commerce Order Data for Analysis**\n",
    "\n",
    "Assume that you received a **multi-level deeply nested JSON data** from an API. Your task is to **extract specific fields efficiently** and **flatten it for analysis**."
   ]
  },
  {
   "cell_type": "code",
   "execution_count": 13,
   "id": "85cf112f-36a2-45ad-9e7a-9f10efe4674a",
   "metadata": {},
   "outputs": [],
   "source": [
    "simple_json_data = '''{\n",
    "    \"order_id\": \"ORD12345\",\n",
    "    \"customer\": {\n",
    "        \"id\": 98765,\n",
    "        \"name\": \"John Doe\",\n",
    "        \"email\": \"johndoe@email.com\",\n",
    "        \"address\": {\n",
    "            \"street\": \"123 Main St\",\n",
    "            \"city\": \"New York\",\n",
    "            \"country\": \"USA\"\n",
    "        }\n",
    "    },\n",
    "    \"items\": [\n",
    "        {\n",
    "            \"product_id\": 111,\n",
    "            \"name\": \"Laptop\",\n",
    "            \"price\": 1500.00,\n",
    "            \"quantity\": 1\n",
    "        },\n",
    "        {\n",
    "            \"product_id\": 222,\n",
    "            \"name\": \"Mouse\",\n",
    "            \"price\": 50.00,\n",
    "            \"quantity\": 2\n",
    "        }\n",
    "    ]\n",
    "}\n",
    "'''"
   ]
  },
  {
   "cell_type": "code",
   "execution_count": 14,
   "id": "fb6fb8ab-ea2a-4406-af03-52ad891f6f79",
   "metadata": {},
   "outputs": [
    {
     "data": {
      "text/html": [
       "<div>\n",
       "<style scoped>\n",
       "    .dataframe tbody tr th:only-of-type {\n",
       "        vertical-align: middle;\n",
       "    }\n",
       "\n",
       "    .dataframe tbody tr th {\n",
       "        vertical-align: top;\n",
       "    }\n",
       "\n",
       "    .dataframe thead th {\n",
       "        text-align: right;\n",
       "    }\n",
       "</style>\n",
       "<table border=\"1\" class=\"dataframe\">\n",
       "  <thead>\n",
       "    <tr style=\"text-align: right;\">\n",
       "      <th></th>\n",
       "      <th>product_id</th>\n",
       "      <th>name</th>\n",
       "      <th>price</th>\n",
       "      <th>quantity</th>\n",
       "      <th>order_id</th>\n",
       "      <th>customer_id</th>\n",
       "      <th>customer_name</th>\n",
       "      <th>customer_email</th>\n",
       "    </tr>\n",
       "  </thead>\n",
       "  <tbody>\n",
       "    <tr>\n",
       "      <th>0</th>\n",
       "      <td>111</td>\n",
       "      <td>Laptop</td>\n",
       "      <td>1500.0</td>\n",
       "      <td>1</td>\n",
       "      <td>ORD12345</td>\n",
       "      <td>98765</td>\n",
       "      <td>John Doe</td>\n",
       "      <td>johndoe@email.com</td>\n",
       "    </tr>\n",
       "    <tr>\n",
       "      <th>1</th>\n",
       "      <td>222</td>\n",
       "      <td>Mouse</td>\n",
       "      <td>50.0</td>\n",
       "      <td>2</td>\n",
       "      <td>ORD12345</td>\n",
       "      <td>98765</td>\n",
       "      <td>John Doe</td>\n",
       "      <td>johndoe@email.com</td>\n",
       "    </tr>\n",
       "  </tbody>\n",
       "</table>\n",
       "</div>"
      ],
      "text/plain": [
       "   product_id    name   price  quantity  order_id customer_id customer_name  \\\n",
       "0         111  Laptop  1500.0         1  ORD12345       98765      John Doe   \n",
       "1         222   Mouse    50.0         2  ORD12345       98765      John Doe   \n",
       "\n",
       "      customer_email  \n",
       "0  johndoe@email.com  \n",
       "1  johndoe@email.com  "
      ]
     },
     "execution_count": 14,
     "metadata": {},
     "output_type": "execute_result"
    }
   ],
   "source": [
    "data = json.loads(simple_json_data)\n",
    "\n",
    "df_customer = pd.json_normalize(data, \n",
    "                                sep=\"_\", \n",
    "                                record_path=[\"items\"], \n",
    "                                meta=[\"order_id\", \n",
    "                                      [\"customer\", \"id\"],\n",
    "                                      [\"customer\", \"name\"],\n",
    "                                      [\"customer\", \"email\"]\n",
    "                                     ]\n",
    "                               )\n",
    "\n",
    "df_customer"
   ]
  }
 ],
 "metadata": {
  "kernelspec": {
   "display_name": "Python 3 (ipykernel)",
   "language": "python",
   "name": "python3"
  },
  "language_info": {
   "codemirror_mode": {
    "name": "ipython",
    "version": 3
   },
   "file_extension": ".py",
   "mimetype": "text/x-python",
   "name": "python",
   "nbconvert_exporter": "python",
   "pygments_lexer": "ipython3",
   "version": "3.9.6"
  }
 },
 "nbformat": 4,
 "nbformat_minor": 5
}
